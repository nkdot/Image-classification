{
 "cells": [
  {
   "cell_type": "code",
   "execution_count": 4,
   "metadata": {},
   "outputs": [],
   "source": [
    "import math\n",
    "import numpy as np\n",
    "import h5py\n",
    "import matplotlib.pyplot as plt\n",
    "from  matplotlib.pyplot import imread\n",
    "import scipy\n",
    "from PIL import Image\n",
    "import pandas as pd\n",
    "import tensorflow as tf\n",
    "import tensorflow.keras.layers as tfl\n",
    "from tensorflow.python.framework import ops\n"
   ]
  },
  {
   "cell_type": "code",
   "execution_count": 7,
   "metadata": {},
   "outputs": [
    {
     "data": {
      "text/plain": [
       "'C:\\\\Users\\\\tempt\\\\Desktop\\\\deeplearning_ai\\\\github'"
      ]
     },
     "execution_count": 7,
     "metadata": {},
     "output_type": "execute_result"
    }
   ],
   "source": [
    "import os\n",
    "os.getcwd()"
   ]
  },
  {
   "cell_type": "code",
   "execution_count": 17,
   "metadata": {},
   "outputs": [],
   "source": [
    "#load dataset\n",
    "train_dataset=h5py.File('datasets/train_happy.h5','r') # train_dataset.keys() contains --> ['list_classes', 'train_set_x', 'train_set_y']>\n",
    "X_train_orig=np.array(train_dataset['train_set_x'][:]) # shape --> (600, 64, 64, 3)\n",
    "Y_train_orig=np.array(train_dataset['train_set_y'][:]) # shape --> (600,)\n",
    "\n",
    "test_dataset=h5py.File('datasets/test_happy.h5','r')\n",
    "X_test_orig=np.array(test_dataset['test_set_x'][:]) # shape--> (150, 64, 64, 3)\n",
    "Y_test_orig=np.array(test_dataset['test_set_y'][:])  # shape--> (150,)\n",
    "\n",
    "classes=np.array(test_dataset['list_classes'][:])\n",
    "\n",
    "# reshape Y\n",
    "Y_train_orig=Y_train_orig.reshape((1,Y_train_orig.shape[0])) # file.reshape(())/ file.reshape()--> both works\n",
    "Y_test_orig= Y_test_orig.reshape((1,Y_test_orig.shape[0]))\n"
   ]
  },
  {
   "cell_type": "code",
   "execution_count": 18,
   "metadata": {},
   "outputs": [],
   "source": [
    "#Normalize\n",
    "X_train=X_train_orig/255.\n",
    "X_test= X_test_orig/255.\n",
    "\n",
    "#Reshape\n",
    "Y_train=Y_train_orig.T\n",
    "Y_test=Y_test_orig.T"
   ]
  },
  {
   "cell_type": "code",
   "execution_count": 19,
   "metadata": {},
   "outputs": [
    {
     "name": "stdout",
     "output_type": "stream",
     "text": [
      "number of training examples = 600\n",
      "number of test examples = 150\n",
      "X_train shape: (600, 64, 64, 3)\n",
      "Y_train shape: (600, 1)\n",
      "X_test shape: (150, 64, 64, 3)\n",
      "Y_test shape: (150, 1)\n"
     ]
    }
   ],
   "source": [
    "print (\"number of training examples = \" + str(X_train.shape[0]))\n",
    "print (\"number of test examples = \" + str(X_test.shape[0]))\n",
    "print (\"X_train shape: \" + str(X_train.shape))\n",
    "print (\"Y_train shape: \" + str(Y_train.shape))\n",
    "print (\"X_test shape: \" + str(X_test.shape))\n",
    "print (\"Y_test shape: \" + str(Y_test.shape))"
   ]
  },
  {
   "cell_type": "code",
   "execution_count": 60,
   "metadata": {},
   "outputs": [
    {
     "data": {
      "text/plain": [
       "<matplotlib.image.AxesImage at 0x185c2445bc8>"
      ]
     },
     "execution_count": 60,
     "metadata": {},
     "output_type": "execute_result"
    },
    {
     "data": {
      "image/png": "[encoded data removed]",
      "text/plain": [
       "<Figure size 432x288 with 1 Axes>"
      ]
     },
     "metadata": {
      "needs_background": "light"
     },
     "output_type": "display_data"
    }
   ],
   "source": [
    "index=10\n",
    "plt.imshow(X_train_orig[index]) #display sample training image"
   ]
  },
  {
   "cell_type": "markdown",
   "metadata": {},
   "source": [
    "SEQUENTIAL API"
   ]
  },
  {
   "cell_type": "markdown",
   "metadata": {},
   "source": [
    "Did you know? \n",
    "why batchnorm over axis=3?\n",
    "#https://stackoverflow.com/questions/45799926/why-batch-normalization-over-channels-only-in-cnn\n",
    "\n",
    "Batch Norm parameters-gamma, beta, mean , variance- multiply it with channels/last layer to get \n",
    "the number of parameters. out of 4, 2 are non trainable\n",
    "\n",
    "Number of parameters in Conv2d :\n",
    "=filter parameter x number of filters +bias\n",
    "=(7x7x3)x32+32=4736"
   ]
  },
  {
   "cell_type": "code",
   "execution_count": 22,
   "metadata": {},
   "outputs": [],
   "source": [
    "def happyModel():\n",
    "    x=X_train.shape[1],X_train.shape[2],X_train.shape[3]\n",
    "    \n",
    "    model=tf.keras.Sequential([\n",
    "        tfl.ZeroPadding2D(padding=3,input_shape=x),\n",
    "        tfl.Conv2D(32,(7,7),strides=1),\n",
    "        tfl.BatchNormalization(axis=3), \n",
    "        tfl.ReLU(),\n",
    "        tfl.MaxPool2D(),\n",
    "        tfl.Flatten(),\n",
    "        tfl.Dense(units=1, activation='sigmoid')\n",
    "    ])\n",
    "    return model"
   ]
  },
  {
   "cell_type": "code",
   "execution_count": 23,
   "metadata": {},
   "outputs": [],
   "source": [
    "happy_model=happyModel()"
   ]
  },
  {
   "cell_type": "code",
   "execution_count": 24,
   "metadata": {},
   "outputs": [],
   "source": [
    "happy_model.compile(optimizer='adam',loss='binary_crossentropy',metrics=['accuracy'])"
   ]
  },
  {
   "cell_type": "code",
   "execution_count": 25,
   "metadata": {},
   "outputs": [
    {
     "name": "stdout",
     "output_type": "stream",
     "text": [
      "Model: \"sequential\"\n",
      "_________________________________________________________________\n",
      " Layer (type)                Output Shape              Param #   \n",
      "=================================================================\n",
      " zero_padding2d (ZeroPadding  (None, 70, 70, 3)        0         \n",
      " 2D)                                                             \n",
      "                                                                 \n",
      " conv2d (Conv2D)             (None, 64, 64, 32)        4736      \n",
      "                                                                 \n",
      " batch_normalization (BatchN  (None, 64, 64, 32)       128       \n",
      " ormalization)                                                   \n",
      "                                                                 \n",
      " re_lu (ReLU)                (None, 64, 64, 32)        0         \n",
      "                                                                 \n",
      " max_pooling2d (MaxPooling2D  (None, 32, 32, 32)       0         \n",
      " )                                                               \n",
      "                                                                 \n",
      " flatten (Flatten)           (None, 32768)             0         \n",
      "                                                                 \n",
      " dense (Dense)               (None, 1)                 32769     \n",
      "                                                                 \n",
      "=================================================================\n",
      "Total params: 37,633\n",
      "Trainable params: 37,569\n",
      "Non-trainable params: 64\n",
      "_________________________________________________________________\n"
     ]
    }
   ],
   "source": [
    "happy_model.summary()"
   ]
  },
  {
   "cell_type": "markdown",
   "metadata": {},
   "source": [
    "TRAIN/ EVALUATE THE MODEL"
   ]
  },
  {
   "cell_type": "code",
   "execution_count": 73,
   "metadata": {},
   "outputs": [
    {
     "name": "stdout",
     "output_type": "stream",
     "text": [
      "Epoch 1/10\n",
      "38/38 [==============================] - 3s 59ms/step - loss: 0.8077 - accuracy: 0.7817\n",
      "Epoch 2/10\n",
      "38/38 [==============================] - 2s 59ms/step - loss: 0.2936 - accuracy: 0.8783\n",
      "Epoch 3/10\n",
      "38/38 [==============================] - 2s 62ms/step - loss: 0.2151 - accuracy: 0.9167\n",
      "Epoch 4/10\n",
      "38/38 [==============================] - 2s 59ms/step - loss: 0.1128 - accuracy: 0.9517\n",
      "Epoch 5/10\n",
      "38/38 [==============================] - 2s 59ms/step - loss: 0.0857 - accuracy: 0.9733\n",
      "Epoch 6/10\n",
      "38/38 [==============================] - 2s 56ms/step - loss: 0.1248 - accuracy: 0.9617\n",
      "Epoch 7/10\n",
      "38/38 [==============================] - 2s 59ms/step - loss: 0.1732 - accuracy: 0.9350\n",
      "Epoch 8/10\n",
      "38/38 [==============================] - 2s 60ms/step - loss: 0.0901 - accuracy: 0.9733\n",
      "Epoch 9/10\n",
      "38/38 [==============================] - 2s 65ms/step - loss: 0.0896 - accuracy: 0.9650\n",
      "Epoch 10/10\n",
      "38/38 [==============================] - 2s 61ms/step - loss: 0.2139 - accuracy: 0.9350\n"
     ]
    },
    {
     "data": {
      "text/plain": [
       "<keras.callbacks.History at 0x185c334ca48>"
      ]
     },
     "execution_count": 73,
     "metadata": {},
     "output_type": "execute_result"
    }
   ],
   "source": [
    "happy_model.fit(X_train,Y_train, epochs=10,batch_size=16)"
   ]
  },
  {
   "cell_type": "code",
   "execution_count": 68,
   "metadata": {},
   "outputs": [
    {
     "name": "stdout",
     "output_type": "stream",
     "text": [
      "5/5 [==============================] - 0s 37ms/step - loss: 0.1316 - accuracy: 0.9400\n"
     ]
    },
    {
     "data": {
      "text/plain": [
       "[0.131571963429451, 0.9399999976158142]"
      ]
     },
     "execution_count": 68,
     "metadata": {},
     "output_type": "execute_result"
    }
   ],
   "source": [
    "happy_model.evaluate(X_test,Y_test)"
   ]
  }
 ],
 "metadata": {
  "kernelspec": {
   "display_name": "Python 3 (ipykernel)",
   "language": "python",
   "name": "python3"
  },
  "language_info": {
   "codemirror_mode": {
    "name": "ipython",
    "version": 3
   },
   "file_extension": ".py",
   "mimetype": "text/x-python",
   "name": "python",
   "nbconvert_exporter": "python",
   "pygments_lexer": "ipython3",
   "version": "3.7.11"
  }
 },
 "nbformat": 4,
 "nbformat_minor": 2
}
